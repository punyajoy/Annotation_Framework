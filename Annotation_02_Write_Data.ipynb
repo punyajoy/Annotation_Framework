{
 "cells": [
  {
   "cell_type": "code",
   "execution_count": 1,
   "metadata": {},
   "outputs": [],
   "source": [
    "# default_exp write_data "
   ]
  },
  {
   "cell_type": "markdown",
   "metadata": {},
   "source": [
    "# Write data to docanno\n",
    "> write data for annotation."
   ]
  },
  {
   "cell_type": "code",
   "execution_count": 2,
   "metadata": {},
   "outputs": [],
   "source": [
    "# export\n",
    "%load_ext autoreload\n",
    "%autoreload 2\n",
    "import pandas as pd\n",
    "from tqdm import tqdm_notebook\n",
    "from whatsapp_analytics import translation,preprocess_lib\n",
    "import pickle\n",
    "from os import path\n",
    "import parmap\n",
    "import numpy as np\n",
    "from langdetect import DetectorFactory\n",
    "DetectorFactory.seed = 0\n",
    "from langdetect import detect\n",
    "import re\n",
    "import uuid\n",
    "from account import baseurl,name,password\n",
    "import json\n",
    "import random\n",
    "parent_path='../Data/New_Data_15-06-2020/'\n",
    "import math"
   ]
  },
  {
   "cell_type": "code",
   "execution_count": 3,
   "metadata": {},
   "outputs": [],
   "source": [
    "# hide\n",
    "if path.exists(parent_path+'round_info.pkl'):\n",
    "    with open(parent_path+'round_info.pkl', 'rb') as f:\n",
    "        round_info = pickle.load(f)\n",
    "else:\n",
    "    print(\"no_round_info\")"
   ]
  },
  {
   "cell_type": "code",
   "execution_count": 4,
   "metadata": {},
   "outputs": [
    {
     "data": {
      "text/plain": [
       "11"
      ]
     },
     "execution_count": 4,
     "metadata": {},
     "output_type": "execute_result"
    }
   ],
   "source": [
    "round_info"
   ]
  },
  {
   "cell_type": "code",
   "execution_count": 5,
   "metadata": {},
   "outputs": [],
   "source": [
    "# hide\n",
    "annotation_data='../Data/Annotations_to_send/'\n",
    "if path.exists(annotation_data+'annotation_'+str(round_info)+'.pkl'):\n",
    "    sample_df = pd.read_pickle(annotation_data+'annotation_'+str(round_info)+'.pkl')"
   ]
  },
  {
   "cell_type": "code",
   "execution_count": 6,
   "metadata": {},
   "outputs": [],
   "source": [
    "# export\n",
    "def wrong_translation(df):\n",
    "    wrong_trans_list=[]\n",
    "    for index,row in tqdm_notebook(df.iterrows(),total=len(df)):\n",
    "        try:\n",
    "            lang=detect(row['translated'])\n",
    "        except:\n",
    "            lang='unk'\n",
    "        if(lang!='en'):\n",
    "            wrong_trans_list.append(1)\n",
    "            continue\n",
    "        org_tokens=preprocess_lib.preprocess_sent(row['message_text'],params={'remove_numbers': False,'remove_emoji': False, 'remove_stop_words': False, 'tokenize': True})\n",
    "        trans_tokens=preprocess_lib.preprocess_sent(row['translated'],params={'remove_numbers': False,'remove_emoji': False, 'remove_stop_words': False, 'tokenize': True})\n",
    "        if((abs(len(org_tokens)-len(trans_tokens))/len(org_tokens))>0.2):\n",
    "                wrong_trans_list.append(1)\n",
    "        else:\n",
    "                wrong_trans_list.append(0)\n",
    "    df['wrong_translation']=wrong_trans_list\n",
    "    return df"
   ]
  },
  {
   "cell_type": "code",
   "execution_count": 7,
   "metadata": {},
   "outputs": [
    {
     "data": {
      "application/vnd.jupyter.widget-view+json": {
       "model_id": "520e87223a6645039511a7c0e12d2727",
       "version_major": 2,
       "version_minor": 0
      },
      "text/plain": [
       "HBox(children=(IntProgress(value=0, max=200), HTML(value='')))"
      ]
     },
     "metadata": {},
     "output_type": "display_data"
    },
    {
     "name": "stdout",
     "output_type": "stream",
     "text": [
      "\n"
     ]
    }
   ],
   "source": [
    "sample_df=wrong_translation(sample_df)"
   ]
  },
  {
   "cell_type": "code",
   "execution_count": 8,
   "metadata": {},
   "outputs": [],
   "source": [
    "# hide\n",
    "from doccano_api_client import DoccanoClient"
   ]
  },
  {
   "cell_type": "code",
   "execution_count": 9,
   "metadata": {},
   "outputs": [
    {
     "name": "stdout",
     "output_type": "stream",
     "text": [
      "<Response [200]>\n",
      "{'id': 1, 'username': 'Punyajoy', 'first_name': 'Punyajoy', 'last_name': 'Saha', 'email': 'punyajoysaha1998@gmail.com', 'is_superuser': True}\n"
     ]
    }
   ],
   "source": [
    "# hide\n",
    "doccano_client = DoccanoClient(\n",
    "    baseurl,name,password\n",
    ")\n",
    "\n",
    "# get basic information about the authorized user\n",
    "r_me = doccano_client.get_me()\n",
    "\n",
    "# print the details from the above query\n",
    "print(r_me.json())\n"
   ]
  },
  {
   "cell_type": "code",
   "execution_count": 10,
   "metadata": {},
   "outputs": [],
   "source": [
    "# hide\n",
    "import json\n",
    "projects=doccano_client.get_project_list().json()"
   ]
  },
  {
   "cell_type": "code",
   "execution_count": null,
   "metadata": {},
   "outputs": [],
   "source": []
  },
  {
   "cell_type": "code",
   "execution_count": 11,
   "metadata": {},
   "outputs": [],
   "source": [
    "# hide\n",
    "with open('user_dict.json','r') as f:\n",
    "    user_dict_keyname = json.load(f)"
   ]
  },
  {
   "cell_type": "code",
   "execution_count": 12,
   "metadata": {},
   "outputs": [],
   "source": [
    "# hide\n",
    "user_dict_keyname\n",
    "\n",
    "\n",
    "for key in user_dict_keyname:\n",
    "    user_dict_keyname[key]['count']=0"
   ]
  },
  {
   "cell_type": "code",
   "execution_count": 13,
   "metadata": {},
   "outputs": [
    {
     "data": {
      "text/plain": [
       "{'Divyanshu': {'id': 41, 'count': 0},\n",
       " 'Debayu': {'id': 44, 'count': 0},\n",
       " 'Danish': {'id': 54, 'count': 0},\n",
       " 'Sharat': {'id': 53, 'count': 0},\n",
       " 'Kukkadapu': {'id': 50, 'count': 0},\n",
       " 'Adarsh': {'id': 52, 'count': 0},\n",
       " 'Yuvraj': {'id': 49, 'count': 0},\n",
       " 'Vineeth': {'id': 51, 'count': 0},\n",
       " 'Samanway': {'id': 45, 'count': 0}}"
      ]
     },
     "execution_count": 13,
     "metadata": {},
     "output_type": "execute_result"
    }
   ],
   "source": [
    "# hide\n",
    "user_dict_keyname"
   ]
  },
  {
   "cell_type": "code",
   "execution_count": 14,
   "metadata": {},
   "outputs": [],
   "source": [
    "# hide\n",
    "users_to_ignore = ['Danish','Samanway','Adarsh','Sharat']\n",
    "num_users=len(user_dict_keyname.keys())-len(users_to_ignore)\n",
    "max_per_round=math.floor(len(sample_df)*3/num_users)\n"
   ]
  },
  {
   "cell_type": "code",
   "execution_count": 15,
   "metadata": {},
   "outputs": [
    {
     "data": {
      "text/plain": [
       "120"
      ]
     },
     "execution_count": 15,
     "metadata": {},
     "output_type": "execute_result"
    }
   ],
   "source": [
    "max_per_round"
   ]
  },
  {
   "cell_type": "code",
   "execution_count": 20,
   "metadata": {},
   "outputs": [],
   "source": [
    "# export\n",
    "def prepare_data(actual_text,translated):\n",
    "    \n",
    "    text ='::Translated_Part:: \\n\\n'\n",
    "    try:\n",
    "        text+=translated+' \\n\\n '\n",
    "    except:\n",
    "        text+=\"!! Translation not available !! sorry for the trouble\"+ '\\n\\n'\n",
    "    text+='::Actual Part:: \\n\\n'\n",
    "    text+=actual_text +' \\n\\n '\n",
    "    return text\n",
    "    \n",
    "\n",
    "def distribute(user_dict,sample_df,max_per_round):\n",
    "    dict1_user={}\n",
    "    for index,row in tqdm_notebook(sample_df.iterrows(),total=len(sample_df)):\n",
    "        text=prepare_data(row['message_text'],row['translated'])\n",
    "        user_tuples=sorted(user_dict.items(), key=lambda item: (item[1]['count'],random.random()))\n",
    "        unique_ids=row['unique_ids']\n",
    "        count_user=0\n",
    "        i=0\n",
    "        one_round=0\n",
    "        already_selected=[]\n",
    "        while(count_user<=2):\n",
    "            if(i>=len(user_dict_keyname.keys())):\n",
    "                i=0\n",
    "                one_round+=1\n",
    "            if(one_round>50):\n",
    "                return\n",
    "            user=user_tuples[i][0]\n",
    "            i=i+1\n",
    "            ### considering users \n",
    "            ## ignore users not annotating\n",
    "            if user in already_selected:\n",
    "                continue\n",
    "            if user in users_to_ignore:\n",
    "                continue\n",
    "            ### ignore Vineeth for wrong translation\n",
    "            if user=='Vineeth' and row['wrong_translation']==1:\n",
    "                continue\n",
    "            ## ignore users if he crosses max this round\n",
    "            if(one_round<=3):\n",
    "                try:\n",
    "                    if(len(dict1_user[user])>max_per_round):\n",
    "                        continue\n",
    "                except KeyError:\n",
    "                    pass\n",
    "\n",
    "            temp=text+' $$'+unique_ids[count_user]+'$$'\n",
    "            try:\n",
    "                dict1_user[user].append(temp)\n",
    "            except KeyError:\n",
    "                dict1_user[user] = [temp]\n",
    "            user_dict[user]['count']+=1\n",
    "            count_user+=1\n",
    "            already_selected.append(user)\n",
    "            \n",
    "        \n",
    "    return dict1_user,user_dict\n",
    "\n",
    "\n",
    "\n",
    "\n",
    "def write_to_all(user_dict,sample_df):\n",
    "    dict1_user={}\n",
    "    for user in user_dict:\n",
    "        if user in users_to_ignore:\n",
    "                continue\n",
    "        for index,row in tqdm_notebook(sample_df.iterrows(),total=len(sample_df)):\n",
    "            text=prepare_data(row['message_text'],row['translated'])\n",
    "            user_tuples=sorted(user_dict.items(), key=lambda item: (item[1]['count'],random.random()))\n",
    "            unique_ids=row['unique_ids']\n",
    "            temp=text+' $$'+unique_ids[0]+'$$'\n",
    "            try:\n",
    "                dict1_user[user].append(temp)\n",
    "            except KeyError:\n",
    "                dict1_user[user] = [temp]\n",
    "    return dict1_user"
   ]
  },
  {
   "cell_type": "code",
   "execution_count": 21,
   "metadata": {},
   "outputs": [
    {
     "data": {
      "application/vnd.jupyter.widget-view+json": {
       "model_id": "a4151f37f85d4d22bba62dfaa112f4c0",
       "version_major": 2,
       "version_minor": 0
      },
      "text/plain": [
       "HBox(children=(IntProgress(value=0, max=200), HTML(value='')))"
      ]
     },
     "metadata": {},
     "output_type": "display_data"
    },
    {
     "name": "stdout",
     "output_type": "stream",
     "text": [
      "\n"
     ]
    }
   ],
   "source": [
    "# hide\n",
    "user_text_map,user_dict=distribute(user_dict_keyname.copy(),sample_df,max_per_round)"
   ]
  },
  {
   "cell_type": "code",
   "execution_count": 22,
   "metadata": {},
   "outputs": [
    {
     "data": {
      "application/vnd.jupyter.widget-view+json": {
       "model_id": "a3ea247e20a1429ab705cbfdaf60a750",
       "version_major": 2,
       "version_minor": 0
      },
      "text/plain": [
       "HBox(children=(IntProgress(value=0, max=200), HTML(value='')))"
      ]
     },
     "metadata": {},
     "output_type": "display_data"
    },
    {
     "name": "stdout",
     "output_type": "stream",
     "text": [
      "\n"
     ]
    },
    {
     "data": {
      "application/vnd.jupyter.widget-view+json": {
       "model_id": "3545c4ff81de453d99ee80f3e7d5a6c3",
       "version_major": 2,
       "version_minor": 0
      },
      "text/plain": [
       "HBox(children=(IntProgress(value=0, max=200), HTML(value='')))"
      ]
     },
     "metadata": {},
     "output_type": "display_data"
    },
    {
     "name": "stdout",
     "output_type": "stream",
     "text": [
      "\n"
     ]
    },
    {
     "data": {
      "application/vnd.jupyter.widget-view+json": {
       "model_id": "90bf20039fbf49639edeb523782d9147",
       "version_major": 2,
       "version_minor": 0
      },
      "text/plain": [
       "HBox(children=(IntProgress(value=0, max=200), HTML(value='')))"
      ]
     },
     "metadata": {},
     "output_type": "display_data"
    },
    {
     "name": "stdout",
     "output_type": "stream",
     "text": [
      "\n"
     ]
    },
    {
     "data": {
      "application/vnd.jupyter.widget-view+json": {
       "model_id": "20f65882ad9442529b21f26afb2a4dbb",
       "version_major": 2,
       "version_minor": 0
      },
      "text/plain": [
       "HBox(children=(IntProgress(value=0, max=200), HTML(value='')))"
      ]
     },
     "metadata": {},
     "output_type": "display_data"
    },
    {
     "name": "stdout",
     "output_type": "stream",
     "text": [
      "\n"
     ]
    },
    {
     "data": {
      "application/vnd.jupyter.widget-view+json": {
       "model_id": "cc315942728045b7adce84446938bd98",
       "version_major": 2,
       "version_minor": 0
      },
      "text/plain": [
       "HBox(children=(IntProgress(value=0, max=200), HTML(value='')))"
      ]
     },
     "metadata": {},
     "output_type": "display_data"
    },
    {
     "name": "stdout",
     "output_type": "stream",
     "text": [
      "\n"
     ]
    }
   ],
   "source": [
    "user_text_map=write_to_all(user_dict_keyname.copy(),sample_df)"
   ]
  },
  {
   "cell_type": "code",
   "execution_count": 23,
   "metadata": {},
   "outputs": [
    {
     "data": {
      "text/plain": [
       "dict_keys(['Divyanshu', 'Debayu', 'Kukkadapu', 'Yuvraj', 'Vineeth'])"
      ]
     },
     "execution_count": 23,
     "metadata": {},
     "output_type": "execute_result"
    }
   ],
   "source": [
    "user_text_map.keys()"
   ]
  },
  {
   "cell_type": "code",
   "execution_count": 24,
   "metadata": {},
   "outputs": [],
   "source": [
    "# export\n",
    "def upload_to_json(user_text_map,projects):\n",
    "    for user in tqdm_notebook(user_text_map.keys(),total=len(user_text_map)):\n",
    "        temp=user_text_map[user]\n",
    "        json_list=[]\n",
    "        for item in temp:\n",
    "            json_list.append({'text':item})\n",
    "        with open('output.json', 'w') as fout:\n",
    "            for item in json_list:\n",
    "                fout.write(json.dumps(item))\n",
    "                fout.write('\\n')\n",
    "        for project in projects:\n",
    "            project_name='Annotation_'+user\n",
    "            if(project_name == project['name']):\n",
    "                project_id=project['id']\n",
    "                break\n",
    "        doccano_client.post_doc_upload(project_id,'json','output.json')"
   ]
  },
  {
   "cell_type": "code",
   "execution_count": 25,
   "metadata": {},
   "outputs": [
    {
     "data": {
      "application/vnd.jupyter.widget-view+json": {
       "model_id": "d32938e3e4184fcc9ab1f47de44d8437",
       "version_major": 2,
       "version_minor": 0
      },
      "text/plain": [
       "HBox(children=(IntProgress(value=0, max=5), HTML(value='')))"
      ]
     },
     "metadata": {},
     "output_type": "display_data"
    },
    {
     "name": "stdout",
     "output_type": "stream",
     "text": [
      "\n"
     ]
    }
   ],
   "source": [
    "# hide\n",
    "upload_to_json(user_text_map,projects)"
   ]
  },
  {
   "cell_type": "code",
   "execution_count": 20,
   "metadata": {},
   "outputs": [],
   "source": [
    "# hide\n",
    "json_object = json.dumps(user_dict, indent = 4) \n",
    "with open('user_dict.json','w') as outfile:\n",
    "    outfile.write(json_object) "
   ]
  },
  {
   "cell_type": "code",
   "execution_count": 21,
   "metadata": {},
   "outputs": [
    {
     "data": {
      "text/plain": [
       "{'Divyanshu': {'id': 41, 'count': 300},\n",
       " 'Debayu': {'id': 44, 'count': 0},\n",
       " 'Danish': {'id': 54, 'count': 0},\n",
       " 'Sharat': {'id': 53, 'count': 300},\n",
       " 'Kukkadapu': {'id': 50, 'count': 301},\n",
       " 'Adarsh': {'id': 52, 'count': 0},\n",
       " 'Yuvraj': {'id': 49, 'count': 300},\n",
       " 'Vineeth': {'id': 51, 'count': 299},\n",
       " 'Samanway': {'id': 45, 'count': 0}}"
      ]
     },
     "execution_count": 21,
     "metadata": {},
     "output_type": "execute_result"
    }
   ],
   "source": [
    "# hide\n",
    "user_dict"
   ]
  },
  {
   "cell_type": "code",
   "execution_count": null,
   "metadata": {},
   "outputs": [],
   "source": []
  },
  {
   "cell_type": "code",
   "execution_count": null,
   "metadata": {},
   "outputs": [],
   "source": []
  },
  {
   "cell_type": "code",
   "execution_count": null,
   "metadata": {},
   "outputs": [],
   "source": []
  },
  {
   "cell_type": "code",
   "execution_count": null,
   "metadata": {},
   "outputs": [],
   "source": []
  }
 ],
 "metadata": {
  "kernelspec": {
   "display_name": "Python [conda env:.conda-punyajoy_gpu] *",
   "language": "python",
   "name": "conda-env-.conda-punyajoy_gpu-py"
  },
  "language_info": {
   "codemirror_mode": {
    "name": "ipython",
    "version": 3
   },
   "file_extension": ".py",
   "mimetype": "text/x-python",
   "name": "python",
   "nbconvert_exporter": "python",
   "pygments_lexer": "ipython3",
   "version": "3.7.3"
  }
 },
 "nbformat": 4,
 "nbformat_minor": 2
}
